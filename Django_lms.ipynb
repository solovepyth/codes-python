{
  "nbformat": 4,
  "nbformat_minor": 0,
  "metadata": {
    "colab": {
      "provenance": [],
      "authorship_tag": "ABX9TyPMDmoeDWTMV4UObImScnZt",
      "include_colab_link": true
    },
    "kernelspec": {
      "name": "python3",
      "display_name": "Python 3"
    },
    "language_info": {
      "name": "python"
    }
  },
  "cells": [
    {
      "cell_type": "markdown",
      "metadata": {
        "id": "view-in-github",
        "colab_type": "text"
      },
      "source": [
        "<a href=\"https://colab.research.google.com/github/solovepyth/codes-python/blob/main/Django_lms.ipynb\" target=\"_parent\"><img src=\"https://colab.research.google.com/assets/colab-badge.svg\" alt=\"Open In Colab\"/></a>"
      ]
    },
    {
      "cell_type": "code",
      "execution_count": null,
      "metadata": {
        "colab": {
          "base_uri": "https://localhost:8080/"
        },
        "id": "iteVOpjJlXpf",
        "outputId": "7f98d4d0-765e-4196-fdc1-6fbe5e2589bb"
      },
      "outputs": [
        {
          "output_type": "stream",
          "name": "stdout",
          "text": [
            "Requirement already satisfied: django in /usr/local/lib/python3.10/dist-packages (5.0.4)\n",
            "Requirement already satisfied: asgiref<4,>=3.7.0 in /usr/local/lib/python3.10/dist-packages (from django) (3.8.1)\n",
            "Requirement already satisfied: sqlparse>=0.3.1 in /usr/local/lib/python3.10/dist-packages (from django) (0.5.0)\n",
            "Requirement already satisfied: typing-extensions>=4 in /usr/local/lib/python3.10/dist-packages (from asgiref<4,>=3.7.0->django) (4.11.0)\n"
          ]
        }
      ],
      "source": [
        "!pip install django"
      ]
    },
    {
      "cell_type": "code",
      "source": [
        "!django-admin startproject nfa_lms"
      ],
      "metadata": {
        "id": "0_YHgl33lbau"
      },
      "execution_count": null,
      "outputs": []
    },
    {
      "cell_type": "code",
      "source": [
        "%pwd"
      ],
      "metadata": {
        "colab": {
          "base_uri": "https://localhost:8080/",
          "height": 35
        },
        "id": "epL-MN7f_f9y",
        "outputId": "2b2b36b8-fc33-470f-a924-a0a1045de6b9"
      },
      "execution_count": 43,
      "outputs": [
        {
          "output_type": "execute_result",
          "data": {
            "text/plain": [
              "'/content/nfa_lms'"
            ],
            "application/vnd.google.colaboratory.intrinsic+json": {
              "type": "string"
            }
          },
          "metadata": {},
          "execution_count": 43
        }
      ]
    },
    {
      "cell_type": "code",
      "source": [
        "%cd nfa_lms"
      ],
      "metadata": {
        "colab": {
          "base_uri": "https://localhost:8080/"
        },
        "id": "V--OXSKbs5uT",
        "outputId": "86d78df2-7ccb-4344-aeee-aba2ac9a5c55"
      },
      "execution_count": null,
      "outputs": [
        {
          "output_type": "stream",
          "name": "stdout",
          "text": [
            "/content/nfa_lms\n"
          ]
        }
      ]
    },
    {
      "cell_type": "markdown",
      "source": [
        "# 1. **Editing settings.py to set ALLOWED_HOSTS to ['*']**\n",
        "\n",
        "\n",
        "\n"
      ],
      "metadata": {
        "id": "10IOe57KvEJO"
      }
    },
    {
      "cell_type": "markdown",
      "source": [
        "# **2.Run colab web server**\n",
        "## **2.1 install ngrok**\n",
        "Google Colab does not allow running the Django development server directly accessible via the usual runserver command because it does not expose arbitrary ports to the internet. However, you can use tools like ngrok to tunnel the traffic to your Colab instance. First, install ngrok"
      ],
      "metadata": {
        "id": "anjaFRn6w2wn"
      }
    },
    {
      "cell_type": "code",
      "source": [
        "!pip install pyngrok"
      ],
      "metadata": {
        "colab": {
          "base_uri": "https://localhost:8080/"
        },
        "id": "is5FboRbvSNe",
        "outputId": "189743ea-a3bc-470e-b772-4f572f058836"
      },
      "execution_count": null,
      "outputs": [
        {
          "output_type": "stream",
          "name": "stdout",
          "text": [
            "Requirement already satisfied: pyngrok in /usr/local/lib/python3.10/dist-packages (7.1.6)\n",
            "Requirement already satisfied: PyYAML>=5.1 in /usr/local/lib/python3.10/dist-packages (from pyngrok) (6.0.1)\n"
          ]
        }
      ]
    },
    {
      "cell_type": "markdown",
      "source": [
        "## **2.2 Start Django development server**"
      ],
      "metadata": {
        "id": "xT6GuH5Z2GkA"
      }
    },
    {
      "cell_type": "code",
      "source": [
        "#!pip install django pyngrok\n",
        "# !ngrok authtoken 2fMauVxvS1WkpmxZeYH7KAUsQwQ_25GwVvyfS4uKpVYhMNFda  # Replace with your real token\n",
        "!fuser -k 8000/tcp\n",
        "\n",
        "!python manage.py migrate\n",
        "#!python manage.py startapp landingpage\n",
        "#!python manage.py createsuperuser\n",
        "\n",
        "#%cd myproject\n",
        "!nohup python manage.py runserver 0.0.0.0:8000 > output.log  &  # Start Django server in the background\n",
        "\n",
        "\n"
      ],
      "metadata": {
        "colab": {
          "base_uri": "https://localhost:8080/"
        },
        "id": "92ecBL0d2kGo",
        "outputId": "d4f9e6ba-4423-4088-f844-2822333acdf1"
      },
      "execution_count": 53,
      "outputs": [
        {
          "output_type": "stream",
          "name": "stdout",
          "text": [
            "8000/tcp:            91037\n",
            "\u001b[36;1mOperations to perform:\u001b[0m\n",
            "\u001b[1m  Apply all migrations: \u001b[0madmin, auth, contenttypes, sessions\n",
            "\u001b[36;1mRunning migrations:\u001b[0m\n",
            "  No migrations to apply.\n",
            "nohup: redirecting stderr to stdout\n"
          ]
        }
      ]
    },
    {
      "cell_type": "code",
      "source": [
        "# import time\n",
        "# time.sleep(10)  # Wait for the server to start\n",
        "\n",
        "# @title Titre par défaut\n",
        "from pyngrok import ngrok\n",
        "\n",
        "ngrok.kill()\n",
        "\n",
        "# Optional: Setup your authtoken (if not already done)\n",
        "ngrok.set_auth_token(\"2fMauVxvS1WkpmxZeYH7KAUsQwQ_25GwVvyfS4uKpVYhMNFda\")  # Replace with your actual ngrok authtoken\n",
        "\n",
        "http_tunnel = ngrok.connect(8000, \"http\")\n",
        "print(\"Public URL:\", http_tunnel.public_url)"
      ],
      "metadata": {
        "colab": {
          "base_uri": "https://localhost:8080/"
        },
        "id": "1yDqN5h3_QgC",
        "outputId": "06dd3d57-a469-493d-dca8-dcf4dc27a085"
      },
      "execution_count": 55,
      "outputs": [
        {
          "output_type": "stream",
          "name": "stdout",
          "text": [
            "Public URL: https://1353-35-196-12-20.ngrok-free.app\n"
          ]
        }
      ]
    },
    {
      "cell_type": "code",
      "source": [
        "import zipfile\n",
        "import os\n",
        "\n",
        "# Define the path to your zip file\n",
        "zip_path = '/content/nfa_lms/landingpage/templates/home_template/assets.zip'\n",
        "\n",
        "# Define the directory to extract its contents into\n",
        "extract_to = '/content/nfa_lms/landingpage/templates/home_template/assets/'\n",
        "\n",
        "# Create the directory if it doesn't exist\n",
        "os.makedirs(extract_to, exist_ok=True)\n",
        "\n",
        "# Unzip the file\n",
        "with zipfile.ZipFile(zip_path, 'r') as zip_ref:\n",
        "    zip_ref.extractall(extract_to)\n",
        "\n",
        "print(\"Files extracted successfully!\")\n"
      ],
      "metadata": {
        "id": "wrfCQLiR3ViL",
        "colab": {
          "base_uri": "https://localhost:8080/"
        },
        "outputId": "3beaeb24-fbe1-4d11-f4d4-590bc2b0b74a"
      },
      "execution_count": 39,
      "outputs": [
        {
          "output_type": "stream",
          "name": "stdout",
          "text": [
            "Files extracted successfully!\n"
          ]
        }
      ]
    },
    {
      "cell_type": "code",
      "source": [],
      "metadata": {
        "id": "jMDMIGQTnIcF"
      },
      "execution_count": null,
      "outputs": []
    }
  ]
}